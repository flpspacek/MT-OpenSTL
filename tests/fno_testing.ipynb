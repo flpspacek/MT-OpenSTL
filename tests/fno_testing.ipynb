{
 "cells": [
  {
   "cell_type": "code",
   "execution_count": 1,
   "metadata": {},
   "outputs": [
    {
     "name": "stderr",
     "output_type": "stream",
     "text": [
      "/home/spacefi1/MT/MT-OpenSTL/.venv/lib/python3.10/site-packages/tqdm/auto.py:21: TqdmWarning: IProgress not found. Please update jupyter and ipywidgets. See https://ipywidgets.readthedocs.io/en/stable/user_install.html\n",
      "  from .autonotebook import tqdm as notebook_tqdm\n"
     ]
    }
   ],
   "source": [
    "import sys\n",
    "import os\n",
    "\n",
    "mt_path = os.path.abspath('/home/spacefi1/MT/MT-OpenSTL')\n",
    "if mt_path not in sys.path:\n",
    "    sys.path.append(mt_path)\n",
    "\n",
    "from math import floor\n",
    "\n",
    "import torch\n",
    "import matplotlib.pyplot as plt\n",
    "from openstl.models.fno_model import FNO_Model\n",
    "torch.manual_seed(1035)\n",
    "from torch.utils.data import Dataset, DataLoader\n",
    "from icecream import install\n",
    "install()\n",
    "#\n",
    "#ic.configureOutput(includeContext=True)\n",
    "device = torch.device('cuda:0' if torch.cuda.is_available() else 'cpu')"
   ]
  },
  {
   "cell_type": "code",
   "execution_count": 2,
   "metadata": {},
   "outputs": [],
   "source": [
    "class IdentityDataset(Dataset):\n",
    "    def __init__(self, n):\n",
    "        \"\"\"\n",
    "        Args:\n",
    "            n (int): Number of samples in the dataset.\n",
    "        \"\"\"\n",
    "        self.n = n  # Total number of samples\n",
    "        self.data = torch.rand(n, 1, 8)  # Random data with shape (n_samples, channel=1, first_dimension=8)\n",
    "\n",
    "    def __len__(self):\n",
    "        # Return the total number of samples\n",
    "        return self.n\n",
    "\n",
    "    def __getitem__(self, idx):\n",
    "        # The input and target are the same (identity function)\n",
    "        sample = self.data[idx]\n",
    "        return sample, sample  # Return input and target as identical\n",
    "    \n",
    "\n",
    "class DoublingDataset(Dataset):\n",
    "    def __init__(self, n):\n",
    "        \"\"\"\n",
    "        Args:\n",
    "            n (int): Number of samples in the dataset.\n",
    "            a = torch.tensor([[1,2,5],\n",
    "                        [3,4,5]])\n",
    "            b = torch.tensor([[2, 2]])\n",
    "            torch.einsum('ij,ki->ij', a, b)\n",
    "        \"\"\"\n",
    "        self.n = n  # Total number of \n",
    "        self.m = 8\n",
    "        self.data = torch.ones(n, 1, self.m)\n",
    "        mask = torch.arange(self.m) % 2 == 1\n",
    "        self.data[:, :, mask] = self.data[:, :, mask] / 2\n",
    "\n",
    "        self.labels = torch.cat((self.data, self.data), axis=-1)\n",
    "\n",
    "        self.salt = torch.rand(n)[None, None, :]\n",
    "\n",
    "        self.data = torch.einsum('ijk,lmi->ijk', self.data, self.salt)\n",
    "        self.labels = torch.einsum('ijk,lmi->ijk', self.labels, self.salt)\n",
    "        #self.data = []\n",
    "        #for _ in range(10):\n",
    "        #    new_data = torch.randn(n // 10, 1, round(torch.FloatTensor(1).uniform_(4, 16)[0].item()))\n",
    "        #    ic(new_data.shape)\n",
    "        #    self.data.append(new_data)\n",
    "                    \n",
    "\n",
    "    def __len__(self):\n",
    "        # Return the total number of samples\n",
    "        return self.n\n",
    "\n",
    "    def __getitem__(self, idx):\n",
    "        # The input and target are the same (identity function)\n",
    "        \n",
    "        sample = self.data[idx]\n",
    "        label = self.labels[idx]\n",
    "        return sample, label  # Return input and target as identical\n",
    "    \n",
    "class WavesDataset(Dataset):\n",
    "    def __init__(self, n):\n",
    "        \"\"\"\n",
    "        Args:\n",
    "            n (int): Number of samples in the dataset.\n",
    "        \"\"\"\n",
    "        self.n = n\n",
    "        self.h, self.w = 8, 8  # Total number of samples\n",
    "        self.data = torch.ones(n, 1, self.h, self.w)\n",
    "        mask = torch.arange(self.w) % 2 == 1\n",
    "        self.data[:, :, :, mask] = self.data[:, :, :, mask] / 2\n",
    "\n",
    "        #self.labels = torch.ones(n, 1, self.h, self.w)\n",
    "        #mask = torch.arange(self.h) % 2 == 1\n",
    "        #self.labels[:, :, mask, :] = self.labels[:, :, mask, :] / 2\n",
    "\n",
    "        self.salt = torch.rand(n)[None, None, None, :]\n",
    "\n",
    "        self.data = torch.einsum('ijkl,mnoi->ijkl', self.data, self.salt)\n",
    "        self.coeff = torch.ones(n)[None, None, None, :] * 2\n",
    "        self.labels = torch.einsum('ijkl,mnoi->ijkl', self.data, self.coeff)\n",
    "        #self.labels = torch.einsum('ijkl,mnoi->ijkl', self.labels, self.salt)\n",
    "\n",
    "    def __len__(self):\n",
    "        # Return the total number of samples\n",
    "        return self.n\n",
    "\n",
    "    def __getitem__(self, idx):\n",
    "        # The input and target are the same (identity function)\n",
    "        sample = self.data[idx]\n",
    "        label = self.labels[idx]\n",
    "        return sample, label  # Return input and target as identical"
   ]
  },
  {
   "cell_type": "code",
   "execution_count": 3,
   "metadata": {},
   "outputs": [
    {
     "name": "stdout",
     "output_type": "stream",
     "text": [
      "Model params: 53441\n"
     ]
    }
   ],
   "source": [
    "in_channels = 1\n",
    "out_channels = 1\n",
    "hidden_channels = 64\n",
    "#shape = (8,)\n",
    "n_modes = 4\n",
    "epochs = 41\n",
    "step_size = 50\n",
    "gamma = 0.5\n",
    "lr = 1e-4\n",
    "freq_print = 10\n",
    "\n",
    "fno = FNO_Model('skip', n_modes, in_channels, out_channels, hidden_channels, ndim=2)\n",
    "fno.cuda()\n",
    "print(f'Model params: {sum(p.numel() for p in fno.parameters() if p.requires_grad)}')\n",
    "\n",
    "batch = 32\n",
    "train_size = 10_000\n",
    "test_size = 200\n",
    "train_set = WavesDataset(train_size)\n",
    "test_set = WavesDataset(test_size)\n",
    "#train_set = IdentityDataset(train_size)\n",
    "#test_set = IdentityDataset(test_size)\n",
    "train_loader = DataLoader(train_set, batch_size=batch, shuffle=True)\n",
    "test_loader = DataLoader(test_set, batch_size=batch, shuffle=True)"
   ]
  },
  {
   "cell_type": "code",
   "execution_count": 4,
   "metadata": {},
   "outputs": [
    {
     "data": {
      "text/plain": [
       "tensor([[0.4273, 0.2136, 0.4273, 0.2136, 0.4273, 0.2136, 0.4273, 0.2136],\n",
       "        [0.4273, 0.2136, 0.4273, 0.2136, 0.4273, 0.2136, 0.4273, 0.2136],\n",
       "        [0.4273, 0.2136, 0.4273, 0.2136, 0.4273, 0.2136, 0.4273, 0.2136],\n",
       "        [0.4273, 0.2136, 0.4273, 0.2136, 0.4273, 0.2136, 0.4273, 0.2136],\n",
       "        [0.4273, 0.2136, 0.4273, 0.2136, 0.4273, 0.2136, 0.4273, 0.2136],\n",
       "        [0.4273, 0.2136, 0.4273, 0.2136, 0.4273, 0.2136, 0.4273, 0.2136],\n",
       "        [0.4273, 0.2136, 0.4273, 0.2136, 0.4273, 0.2136, 0.4273, 0.2136],\n",
       "        [0.4273, 0.2136, 0.4273, 0.2136, 0.4273, 0.2136, 0.4273, 0.2136]])"
      ]
     },
     "execution_count": 4,
     "metadata": {},
     "output_type": "execute_result"
    }
   ],
   "source": [
    "a = next(iter(train_loader))\n",
    "a[0][0, 0, :, :]"
   ]
  },
  {
   "cell_type": "code",
   "execution_count": 5,
   "metadata": {},
   "outputs": [
    {
     "data": {
      "text/plain": [
       "tensor([[0.8545, 0.4273, 0.8545, 0.4273, 0.8545, 0.4273, 0.8545, 0.4273],\n",
       "        [0.8545, 0.4273, 0.8545, 0.4273, 0.8545, 0.4273, 0.8545, 0.4273],\n",
       "        [0.8545, 0.4273, 0.8545, 0.4273, 0.8545, 0.4273, 0.8545, 0.4273],\n",
       "        [0.8545, 0.4273, 0.8545, 0.4273, 0.8545, 0.4273, 0.8545, 0.4273],\n",
       "        [0.8545, 0.4273, 0.8545, 0.4273, 0.8545, 0.4273, 0.8545, 0.4273],\n",
       "        [0.8545, 0.4273, 0.8545, 0.4273, 0.8545, 0.4273, 0.8545, 0.4273],\n",
       "        [0.8545, 0.4273, 0.8545, 0.4273, 0.8545, 0.4273, 0.8545, 0.4273],\n",
       "        [0.8545, 0.4273, 0.8545, 0.4273, 0.8545, 0.4273, 0.8545, 0.4273]])"
      ]
     },
     "execution_count": 5,
     "metadata": {},
     "output_type": "execute_result"
    }
   ],
   "source": [
    "a[1][0, 0, :, :]"
   ]
  },
  {
   "cell_type": "code",
   "execution_count": 6,
   "metadata": {},
   "outputs": [
    {
     "name": "stdout",
     "output_type": "stream",
     "text": [
      "######### Epoch: 0  ######### Train Loss: 0.003915699932436109  ######### Relative L2 Test Norm: 0.06071610748767853\n",
      "######### Epoch: 10  ######### Train Loss: 2.9324348713544168e-08  ######### Relative L2 Test Norm: 0.0033604430407285692\n",
      "######### Epoch: 20  ######### Train Loss: 5.217863565611936e-08  ######### Relative L2 Test Norm: 0.004157565571367741\n",
      "######### Epoch: 30  ######### Train Loss: 1.0452491428658561e-07  ######### Relative L2 Test Norm: 0.0014203966781497002\n",
      "######### Epoch: 40  ######### Train Loss: 1.5715464336274463e-08  ######### Relative L2 Test Norm: 0.005597985610365868\n"
     ]
    }
   ],
   "source": [
    "optimizer = torch.optim.AdamW(fno.parameters(), lr=lr, weight_decay=1e-5)\n",
    "scheduler = torch.optim.lr_scheduler.StepLR(optimizer, step_size=step_size, gamma=gamma)\n",
    "loss_func = torch.nn.MSELoss()\n",
    "\n",
    "for epoch in range(epochs):\n",
    "    train_mse = 0.0\n",
    "    for step, (input, target) in enumerate(train_loader):\n",
    "       input, target = input.cuda(), target.cuda()\n",
    "       optimizer.zero_grad()\n",
    "       #ic(target.shape[2:])\n",
    "       pred = fno(input, target.shape[2:])\n",
    "       loss = loss_func(pred, target)\n",
    "       loss.backward()\n",
    "       optimizer.step()\n",
    "       train_mse += loss.item()\n",
    "    train_mse /= len(train_set)\n",
    "    scheduler.step()\n",
    "\n",
    "    with torch.no_grad():\n",
    "        fno.eval()\n",
    "        test_relative_l2 = 0.0\n",
    "        for step, (input, target) in enumerate(test_loader):\n",
    "            input, target = input.cuda(), target.cuda()\n",
    "            pred = fno(input, target.shape[2:])\n",
    "            #ic(pred)\n",
    "            #ic(pred.shape)\n",
    "            loss = (torch.mean((pred - target) ** 2) / torch.mean(target ** 2)) ** 0.5 * 100\n",
    "            test_relative_l2 += loss.item()\n",
    "        test_relative_l2 /= len(test_set)\n",
    "    \n",
    "    if epoch % freq_print == 0: print(\"######### Epoch:\", epoch, \" ######### Train Loss:\", train_mse, \" ######### Relative L2 Test Norm:\", test_relative_l2)\n",
    "\n",
    "\n",
    "\n",
    "    "
   ]
  },
  {
   "cell_type": "markdown",
   "metadata": {},
   "source": []
  },
  {
   "cell_type": "code",
   "execution_count": 11,
   "metadata": {},
   "outputs": [
    {
     "data": {
      "text/plain": [
       "tensor([[[[2.0023, 1.9893, 1.9707,  ..., 1.0319, 1.0136, 1.0011],\n",
       "          [2.0023, 1.9893, 1.9707,  ..., 1.0319, 1.0136, 1.0011],\n",
       "          [2.0023, 1.9893, 1.9707,  ..., 1.0319, 1.0136, 1.0011],\n",
       "          ...,\n",
       "          [2.0023, 1.9893, 1.9707,  ..., 1.0319, 1.0136, 1.0011],\n",
       "          [2.0023, 1.9893, 1.9707,  ..., 1.0319, 1.0136, 1.0011],\n",
       "          [2.0023, 1.9893, 1.9707,  ..., 1.0319, 1.0136, 1.0011]]]],\n",
       "       device='cuda:0', grad_fn=<ViewBackward0>)"
      ]
     },
     "execution_count": 11,
     "metadata": {},
     "output_type": "execute_result"
    }
   ],
   "source": [
    "h, w = 8, 8  # Total number of samples\n",
    "x = torch.ones(1, 1, h, w)\n",
    "mask = torch.arange(w) % 2 == 1\n",
    "x[:, :, :, mask] = x[:, :, :, mask] / 2\n",
    "x = x.cuda()\n",
    "#x = x[None, None, :].cuda()\n",
    "out = fno(x, (64,256))\n",
    "out"
   ]
  },
  {
   "cell_type": "code",
   "execution_count": 12,
   "metadata": {},
   "outputs": [
    {
     "data": {
      "text/plain": [
       "torch.Size([1, 1, 64, 256])"
      ]
     },
     "execution_count": 12,
     "metadata": {},
     "output_type": "execute_result"
    }
   ],
   "source": [
    "out.shape"
   ]
  },
  {
   "cell_type": "code",
   "execution_count": 13,
   "metadata": {},
   "outputs": [
    {
     "data": {
      "image/png": "[encoded data removed]",
      "text/plain": [
       "<Figure size 640x480 with 1 Axes>"
      ]
     },
     "metadata": {},
     "output_type": "display_data"
    }
   ],
   "source": [
    "plt.imshow(out.detach().cpu()[0,0,:,:])\n",
    "plt.show()"
   ]
  },
  {
   "cell_type": "code",
   "execution_count": 10,
   "metadata": {},
   "outputs": [
    {
     "ename": "ValueError",
     "evalue": "Input and output must have the same number of spatial dimensions, but got input with spatial dimensions of [8, 8] and output size of (10,). Please provide input tensor in (N, C, d1, d2, ...,dK) format and output size in (o1, o2, ...,oK) format.",
     "output_type": "error",
     "traceback": [
      "\u001b[0;31m---------------------------------------------------------------------------\u001b[0m",
      "\u001b[0;31mValueError\u001b[0m                                Traceback (most recent call last)",
      "Cell \u001b[0;32mIn[10], line 1\u001b[0m\n\u001b[0;32m----> 1\u001b[0m out \u001b[38;5;241m=\u001b[39m \u001b[43mfno\u001b[49m\u001b[43m(\u001b[49m\u001b[43mx\u001b[49m\u001b[43m,\u001b[49m\u001b[43m \u001b[49m\u001b[43m(\u001b[49m\u001b[38;5;241;43m24\u001b[39;49m\u001b[43m,\u001b[49m\u001b[43m)\u001b[49m\u001b[43m)\u001b[49m\n\u001b[1;32m      2\u001b[0m out\n",
      "File \u001b[0;32m~/MT/MT-OpenSTL/.venv/lib/python3.10/site-packages/torch/nn/modules/module.py:1736\u001b[0m, in \u001b[0;36mModule._wrapped_call_impl\u001b[0;34m(self, *args, **kwargs)\u001b[0m\n\u001b[1;32m   1734\u001b[0m     \u001b[38;5;28;01mreturn\u001b[39;00m \u001b[38;5;28mself\u001b[39m\u001b[38;5;241m.\u001b[39m_compiled_call_impl(\u001b[38;5;241m*\u001b[39margs, \u001b[38;5;241m*\u001b[39m\u001b[38;5;241m*\u001b[39mkwargs)  \u001b[38;5;66;03m# type: ignore[misc]\u001b[39;00m\n\u001b[1;32m   1735\u001b[0m \u001b[38;5;28;01melse\u001b[39;00m:\n\u001b[0;32m-> 1736\u001b[0m     \u001b[38;5;28;01mreturn\u001b[39;00m \u001b[38;5;28;43mself\u001b[39;49m\u001b[38;5;241;43m.\u001b[39;49m\u001b[43m_call_impl\u001b[49m\u001b[43m(\u001b[49m\u001b[38;5;241;43m*\u001b[39;49m\u001b[43margs\u001b[49m\u001b[43m,\u001b[49m\u001b[43m \u001b[49m\u001b[38;5;241;43m*\u001b[39;49m\u001b[38;5;241;43m*\u001b[39;49m\u001b[43mkwargs\u001b[49m\u001b[43m)\u001b[49m\n",
      "File \u001b[0;32m~/MT/MT-OpenSTL/.venv/lib/python3.10/site-packages/torch/nn/modules/module.py:1747\u001b[0m, in \u001b[0;36mModule._call_impl\u001b[0;34m(self, *args, **kwargs)\u001b[0m\n\u001b[1;32m   1742\u001b[0m \u001b[38;5;66;03m# If we don't have any hooks, we want to skip the rest of the logic in\u001b[39;00m\n\u001b[1;32m   1743\u001b[0m \u001b[38;5;66;03m# this function, and just call forward.\u001b[39;00m\n\u001b[1;32m   1744\u001b[0m \u001b[38;5;28;01mif\u001b[39;00m \u001b[38;5;129;01mnot\u001b[39;00m (\u001b[38;5;28mself\u001b[39m\u001b[38;5;241m.\u001b[39m_backward_hooks \u001b[38;5;129;01mor\u001b[39;00m \u001b[38;5;28mself\u001b[39m\u001b[38;5;241m.\u001b[39m_backward_pre_hooks \u001b[38;5;129;01mor\u001b[39;00m \u001b[38;5;28mself\u001b[39m\u001b[38;5;241m.\u001b[39m_forward_hooks \u001b[38;5;129;01mor\u001b[39;00m \u001b[38;5;28mself\u001b[39m\u001b[38;5;241m.\u001b[39m_forward_pre_hooks\n\u001b[1;32m   1745\u001b[0m         \u001b[38;5;129;01mor\u001b[39;00m _global_backward_pre_hooks \u001b[38;5;129;01mor\u001b[39;00m _global_backward_hooks\n\u001b[1;32m   1746\u001b[0m         \u001b[38;5;129;01mor\u001b[39;00m _global_forward_hooks \u001b[38;5;129;01mor\u001b[39;00m _global_forward_pre_hooks):\n\u001b[0;32m-> 1747\u001b[0m     \u001b[38;5;28;01mreturn\u001b[39;00m \u001b[43mforward_call\u001b[49m\u001b[43m(\u001b[49m\u001b[38;5;241;43m*\u001b[39;49m\u001b[43margs\u001b[49m\u001b[43m,\u001b[49m\u001b[43m \u001b[49m\u001b[38;5;241;43m*\u001b[39;49m\u001b[38;5;241;43m*\u001b[39;49m\u001b[43mkwargs\u001b[49m\u001b[43m)\u001b[49m\n\u001b[1;32m   1749\u001b[0m result \u001b[38;5;241m=\u001b[39m \u001b[38;5;28;01mNone\u001b[39;00m\n\u001b[1;32m   1750\u001b[0m called_always_called_hooks \u001b[38;5;241m=\u001b[39m \u001b[38;5;28mset\u001b[39m()\n",
      "File \u001b[0;32m~/MT/MT-OpenSTL/openstl/models/fno_model.py:87\u001b[0m, in \u001b[0;36mFNO_Model.forward\u001b[0;34m(self, x, output_shape)\u001b[0m\n\u001b[1;32m     84\u001b[0m x \u001b[38;5;241m=\u001b[39m \u001b[38;5;28mself\u001b[39m\u001b[38;5;241m.\u001b[39mlifting(x)\n\u001b[1;32m     86\u001b[0m \u001b[38;5;28;01mfor\u001b[39;00m layer_idx \u001b[38;5;129;01min\u001b[39;00m \u001b[38;5;28mrange\u001b[39m(\u001b[38;5;28mself\u001b[39m\u001b[38;5;241m.\u001b[39mn_layers):\n\u001b[0;32m---> 87\u001b[0m     x \u001b[38;5;241m=\u001b[39m \u001b[38;5;28;43mself\u001b[39;49m\u001b[38;5;241;43m.\u001b[39;49m\u001b[43mfourier_layers\u001b[49m\u001b[43m[\u001b[49m\u001b[43mlayer_idx\u001b[49m\u001b[43m]\u001b[49m\u001b[43m(\u001b[49m\u001b[43mx\u001b[49m\u001b[43m,\u001b[49m\u001b[43m \u001b[49m\u001b[43mlayer_idx\u001b[49m\u001b[43m,\u001b[49m\u001b[43m \u001b[49m\u001b[43mout_shapes\u001b[49m\u001b[43m[\u001b[49m\u001b[43mlayer_idx\u001b[49m\u001b[43m]\u001b[49m\u001b[43m)\u001b[49m\n\u001b[1;32m     88\u001b[0m     \u001b[38;5;66;03m#ic(x.shape)\u001b[39;00m\n\u001b[1;32m     90\u001b[0m x \u001b[38;5;241m=\u001b[39m \u001b[38;5;28mself\u001b[39m\u001b[38;5;241m.\u001b[39mprojection(x)\n",
      "File \u001b[0;32m~/MT/MT-OpenSTL/.venv/lib/python3.10/site-packages/torch/nn/modules/module.py:1736\u001b[0m, in \u001b[0;36mModule._wrapped_call_impl\u001b[0;34m(self, *args, **kwargs)\u001b[0m\n\u001b[1;32m   1734\u001b[0m     \u001b[38;5;28;01mreturn\u001b[39;00m \u001b[38;5;28mself\u001b[39m\u001b[38;5;241m.\u001b[39m_compiled_call_impl(\u001b[38;5;241m*\u001b[39margs, \u001b[38;5;241m*\u001b[39m\u001b[38;5;241m*\u001b[39mkwargs)  \u001b[38;5;66;03m# type: ignore[misc]\u001b[39;00m\n\u001b[1;32m   1735\u001b[0m \u001b[38;5;28;01melse\u001b[39;00m:\n\u001b[0;32m-> 1736\u001b[0m     \u001b[38;5;28;01mreturn\u001b[39;00m \u001b[38;5;28;43mself\u001b[39;49m\u001b[38;5;241;43m.\u001b[39;49m\u001b[43m_call_impl\u001b[49m\u001b[43m(\u001b[49m\u001b[38;5;241;43m*\u001b[39;49m\u001b[43margs\u001b[49m\u001b[43m,\u001b[49m\u001b[43m \u001b[49m\u001b[38;5;241;43m*\u001b[39;49m\u001b[38;5;241;43m*\u001b[39;49m\u001b[43mkwargs\u001b[49m\u001b[43m)\u001b[49m\n",
      "File \u001b[0;32m~/MT/MT-OpenSTL/.venv/lib/python3.10/site-packages/torch/nn/modules/module.py:1747\u001b[0m, in \u001b[0;36mModule._call_impl\u001b[0;34m(self, *args, **kwargs)\u001b[0m\n\u001b[1;32m   1742\u001b[0m \u001b[38;5;66;03m# If we don't have any hooks, we want to skip the rest of the logic in\u001b[39;00m\n\u001b[1;32m   1743\u001b[0m \u001b[38;5;66;03m# this function, and just call forward.\u001b[39;00m\n\u001b[1;32m   1744\u001b[0m \u001b[38;5;28;01mif\u001b[39;00m \u001b[38;5;129;01mnot\u001b[39;00m (\u001b[38;5;28mself\u001b[39m\u001b[38;5;241m.\u001b[39m_backward_hooks \u001b[38;5;129;01mor\u001b[39;00m \u001b[38;5;28mself\u001b[39m\u001b[38;5;241m.\u001b[39m_backward_pre_hooks \u001b[38;5;129;01mor\u001b[39;00m \u001b[38;5;28mself\u001b[39m\u001b[38;5;241m.\u001b[39m_forward_hooks \u001b[38;5;129;01mor\u001b[39;00m \u001b[38;5;28mself\u001b[39m\u001b[38;5;241m.\u001b[39m_forward_pre_hooks\n\u001b[1;32m   1745\u001b[0m         \u001b[38;5;129;01mor\u001b[39;00m _global_backward_pre_hooks \u001b[38;5;129;01mor\u001b[39;00m _global_backward_hooks\n\u001b[1;32m   1746\u001b[0m         \u001b[38;5;129;01mor\u001b[39;00m _global_forward_hooks \u001b[38;5;129;01mor\u001b[39;00m _global_forward_pre_hooks):\n\u001b[0;32m-> 1747\u001b[0m     \u001b[38;5;28;01mreturn\u001b[39;00m \u001b[43mforward_call\u001b[49m\u001b[43m(\u001b[49m\u001b[38;5;241;43m*\u001b[39;49m\u001b[43margs\u001b[49m\u001b[43m,\u001b[49m\u001b[43m \u001b[49m\u001b[38;5;241;43m*\u001b[39;49m\u001b[38;5;241;43m*\u001b[39;49m\u001b[43mkwargs\u001b[49m\u001b[43m)\u001b[49m\n\u001b[1;32m   1749\u001b[0m result \u001b[38;5;241m=\u001b[39m \u001b[38;5;28;01mNone\u001b[39;00m\n\u001b[1;32m   1750\u001b[0m called_always_called_hooks \u001b[38;5;241m=\u001b[39m \u001b[38;5;28mset\u001b[39m()\n",
      "File \u001b[0;32m~/MT/MT-OpenSTL/openstl/modules/fno_modules.py:188\u001b[0m, in \u001b[0;36mFNOBlock.forward\u001b[0;34m(self, x, idx, output_shape)\u001b[0m\n\u001b[1;32m    185\u001b[0m \u001b[38;5;28;01mdef\u001b[39;00m \u001b[38;5;21mforward\u001b[39m(\u001b[38;5;28mself\u001b[39m, x: torch\u001b[38;5;241m.\u001b[39mTensor, idx: \u001b[38;5;28mint\u001b[39m, output_shape: Optional[\u001b[38;5;28mtuple\u001b[39m[\u001b[38;5;28mint\u001b[39m, \u001b[38;5;241m.\u001b[39m\u001b[38;5;241m.\u001b[39m\u001b[38;5;241m.\u001b[39m]] \u001b[38;5;241m=\u001b[39m \u001b[38;5;28;01mNone\u001b[39;00m) \u001b[38;5;241m-\u001b[39m\u001b[38;5;241m>\u001b[39m torch\u001b[38;5;241m.\u001b[39mTensor:\n\u001b[1;32m    186\u001b[0m     \u001b[38;5;66;03m# Skip connection with optional super-resolution\u001b[39;00m\n\u001b[1;32m    187\u001b[0m     x_fno_skip \u001b[38;5;241m=\u001b[39m \u001b[38;5;28mself\u001b[39m\u001b[38;5;241m.\u001b[39m_skip_connection(x)\n\u001b[0;32m--> 188\u001b[0m     x_fno_skip \u001b[38;5;241m=\u001b[39m \u001b[38;5;28;43mself\u001b[39;49m\u001b[38;5;241;43m.\u001b[39;49m\u001b[43mspec_conv\u001b[49m\u001b[38;5;241;43m.\u001b[39;49m\u001b[43mtransform\u001b[49m\u001b[43m(\u001b[49m\u001b[43mx_fno_skip\u001b[49m\u001b[43m,\u001b[49m\u001b[43m \u001b[49m\u001b[43moutput_shape\u001b[49m\u001b[43m)\u001b[49m\n\u001b[1;32m    190\u001b[0m     \u001b[38;5;66;03m# Spectral convolution\u001b[39;00m\n\u001b[1;32m    191\u001b[0m     x_fno \u001b[38;5;241m=\u001b[39m \u001b[38;5;28mself\u001b[39m\u001b[38;5;241m.\u001b[39mspec_conv(x, output_shape)\n",
      "File \u001b[0;32m~/MT/MT-OpenSTL/openstl/modules/fno_modules.py:94\u001b[0m, in \u001b[0;36mSpectralConv.transform\u001b[0;34m(self, x, output_shape)\u001b[0m\n\u001b[1;32m     91\u001b[0m \u001b[38;5;28;01mif\u001b[39;00m in_shape \u001b[38;5;241m==\u001b[39m output_shape:\n\u001b[1;32m     92\u001b[0m     \u001b[38;5;28;01mreturn\u001b[39;00m x\n\u001b[0;32m---> 94\u001b[0m \u001b[38;5;28;01mreturn\u001b[39;00m \u001b[38;5;28;43mself\u001b[39;49m\u001b[38;5;241;43m.\u001b[39;49m\u001b[43m_resample\u001b[49m\u001b[43m(\u001b[49m\u001b[43mx\u001b[49m\u001b[43m,\u001b[49m\u001b[43m \u001b[49m\u001b[38;5;241;43m1.0\u001b[39;49m\u001b[43m,\u001b[49m\u001b[43m \u001b[49m\u001b[38;5;28;43mlist\u001b[39;49m\u001b[43m(\u001b[49m\u001b[38;5;28;43mrange\u001b[39;49m\u001b[43m(\u001b[49m\u001b[38;5;241;43m2\u001b[39;49m\u001b[43m,\u001b[49m\u001b[43m \u001b[49m\u001b[43mx\u001b[49m\u001b[38;5;241;43m.\u001b[39;49m\u001b[43mndim\u001b[49m\u001b[43m)\u001b[49m\u001b[43m)\u001b[49m\u001b[43m,\u001b[49m\u001b[43m \u001b[49m\u001b[43moutput_shape\u001b[49m\u001b[38;5;241;43m=\u001b[39;49m\u001b[43moutput_shape\u001b[49m\u001b[43m)\u001b[49m\n",
      "File \u001b[0;32m~/MT/MT-OpenSTL/openstl/modules/fno_modules.py:65\u001b[0m, in \u001b[0;36mSpectralConv._resample\u001b[0;34m(x, res_scale, axis, output_shape)\u001b[0m\n\u001b[1;32m     63\u001b[0m     \u001b[38;5;28;01mreturn\u001b[39;00m F\u001b[38;5;241m.\u001b[39minterpolate(x, size\u001b[38;5;241m=\u001b[39moutput_shape[\u001b[38;5;241m0\u001b[39m], mode\u001b[38;5;241m=\u001b[39m\u001b[38;5;124m'\u001b[39m\u001b[38;5;124mlinear\u001b[39m\u001b[38;5;124m'\u001b[39m, align_corners\u001b[38;5;241m=\u001b[39m\u001b[38;5;28;01mTrue\u001b[39;00m)\n\u001b[1;32m     64\u001b[0m \u001b[38;5;28;01mif\u001b[39;00m \u001b[38;5;28mlen\u001b[39m(axis) \u001b[38;5;241m==\u001b[39m \u001b[38;5;241m2\u001b[39m:\n\u001b[0;32m---> 65\u001b[0m     \u001b[38;5;28;01mreturn\u001b[39;00m \u001b[43mF\u001b[49m\u001b[38;5;241;43m.\u001b[39;49m\u001b[43minterpolate\u001b[49m\u001b[43m(\u001b[49m\u001b[43mx\u001b[49m\u001b[43m,\u001b[49m\u001b[43m \u001b[49m\u001b[43msize\u001b[49m\u001b[38;5;241;43m=\u001b[39;49m\u001b[43moutput_shape\u001b[49m\u001b[43m,\u001b[49m\u001b[43m \u001b[49m\u001b[43mmode\u001b[49m\u001b[38;5;241;43m=\u001b[39;49m\u001b[38;5;124;43m'\u001b[39;49m\u001b[38;5;124;43mbicubic\u001b[39;49m\u001b[38;5;124;43m'\u001b[39;49m\u001b[43m,\u001b[49m\u001b[43m \u001b[49m\u001b[43malign_corners\u001b[49m\u001b[38;5;241;43m=\u001b[39;49m\u001b[38;5;28;43;01mTrue\u001b[39;49;00m\u001b[43m)\u001b[49m\n\u001b[1;32m     67\u001b[0m X \u001b[38;5;241m=\u001b[39m torch\u001b[38;5;241m.\u001b[39mfft\u001b[38;5;241m.\u001b[39mrfftn(x\u001b[38;5;241m.\u001b[39mfloat(), norm\u001b[38;5;241m=\u001b[39m\u001b[38;5;124m'\u001b[39m\u001b[38;5;124mforward\u001b[39m\u001b[38;5;124m'\u001b[39m, dim\u001b[38;5;241m=\u001b[39maxis)\n\u001b[1;32m     69\u001b[0m new_fft_size \u001b[38;5;241m=\u001b[39m \u001b[38;5;28mlist\u001b[39m(output_shape)\n",
      "File \u001b[0;32m~/MT/MT-OpenSTL/.venv/lib/python3.10/site-packages/torch/nn/functional.py:4453\u001b[0m, in \u001b[0;36minterpolate\u001b[0;34m(input, size, scale_factor, mode, align_corners, recompute_scale_factor, antialias)\u001b[0m\n\u001b[1;32m   4451\u001b[0m \u001b[38;5;28;01mif\u001b[39;00m \u001b[38;5;28misinstance\u001b[39m(size, (\u001b[38;5;28mlist\u001b[39m, \u001b[38;5;28mtuple\u001b[39m)):\n\u001b[1;32m   4452\u001b[0m     \u001b[38;5;28;01mif\u001b[39;00m \u001b[38;5;28mlen\u001b[39m(size) \u001b[38;5;241m!=\u001b[39m dim:\n\u001b[0;32m-> 4453\u001b[0m         \u001b[38;5;28;01mraise\u001b[39;00m \u001b[38;5;167;01mValueError\u001b[39;00m(\n\u001b[1;32m   4454\u001b[0m             \u001b[38;5;124m\"\u001b[39m\u001b[38;5;124mInput and output must have the same number of spatial dimensions, but got \u001b[39m\u001b[38;5;124m\"\u001b[39m\n\u001b[1;32m   4455\u001b[0m             \u001b[38;5;124mf\u001b[39m\u001b[38;5;124m\"\u001b[39m\u001b[38;5;124minput with spatial dimensions of \u001b[39m\u001b[38;5;132;01m{\u001b[39;00m\u001b[38;5;28mlist\u001b[39m(\u001b[38;5;28minput\u001b[39m\u001b[38;5;241m.\u001b[39mshape[\u001b[38;5;241m2\u001b[39m:])\u001b[38;5;132;01m}\u001b[39;00m\u001b[38;5;124m and output size of \u001b[39m\u001b[38;5;132;01m{\u001b[39;00msize\u001b[38;5;132;01m}\u001b[39;00m\u001b[38;5;124m. \u001b[39m\u001b[38;5;124m\"\u001b[39m\n\u001b[1;32m   4456\u001b[0m             \u001b[38;5;124m\"\u001b[39m\u001b[38;5;124mPlease provide input tensor in (N, C, d1, d2, ...,dK) format and \u001b[39m\u001b[38;5;124m\"\u001b[39m\n\u001b[1;32m   4457\u001b[0m             \u001b[38;5;124m\"\u001b[39m\u001b[38;5;124moutput size in (o1, o2, ...,oK) format.\u001b[39m\u001b[38;5;124m\"\u001b[39m\n\u001b[1;32m   4458\u001b[0m         )\n\u001b[1;32m   4459\u001b[0m     \u001b[38;5;28;01mif\u001b[39;00m \u001b[38;5;129;01mnot\u001b[39;00m torch\u001b[38;5;241m.\u001b[39mjit\u001b[38;5;241m.\u001b[39mis_scripting():\n\u001b[1;32m   4460\u001b[0m         \u001b[38;5;28;01mif\u001b[39;00m \u001b[38;5;129;01mnot\u001b[39;00m \u001b[38;5;28mall\u001b[39m(_is_integer(x) \u001b[38;5;28;01mfor\u001b[39;00m x \u001b[38;5;129;01min\u001b[39;00m size):\n",
      "\u001b[0;31mValueError\u001b[0m: Input and output must have the same number of spatial dimensions, but got input with spatial dimensions of [8, 8] and output size of (10,). Please provide input tensor in (N, C, d1, d2, ...,dK) format and output size in (o1, o2, ...,oK) format."
     ]
    }
   ],
   "source": [
    "out = fno(x, (24,))\n",
    "out"
   ]
  },
  {
   "cell_type": "code",
   "execution_count": null,
   "metadata": {},
   "outputs": [
    {
     "data": {
      "image/png": "[encoded data removed]",
      "text/plain": [
       "<Figure size 640x480 with 1 Axes>"
      ]
     },
     "metadata": {},
     "output_type": "display_data"
    }
   ],
   "source": [
    "plt.imshow(out.detach().cpu()[0,:,:])\n",
    "plt.show()"
   ]
  },
  {
   "cell_type": "code",
   "execution_count": null,
   "metadata": {},
   "outputs": [],
   "source": []
  }
 ],
 "metadata": {
  "kernelspec": {
   "display_name": ".venv",
   "language": "python",
   "name": "python3"
  },
  "language_info": {
   "codemirror_mode": {
    "name": "ipython",
    "version": 3
   },
   "file_extension": ".py",
   "mimetype": "text/x-python",
   "name": "python",
   "nbconvert_exporter": "python",
   "pygments_lexer": "ipython3",
   "version": "3.10.12"
  }
 },
 "nbformat": 4,
 "nbformat_minor": 2
}
